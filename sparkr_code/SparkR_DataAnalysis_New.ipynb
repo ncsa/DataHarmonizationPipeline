{
 "cells": [
  {
   "cell_type": "code",
   "execution_count": null,
   "metadata": {},
   "outputs": [],
   "source": [
    "## Spark Adapted Code for DataAnalysis_New.R\n",
    "\n",
    "## Notes:\n",
    "## This file stays the same, since it's just making use of other libraries."
   ]
  },
  {
   "cell_type": "code",
   "execution_count": null,
   "metadata": {},
   "outputs": [],
   "source": [
    "#' Function that applies PCA on the preprocessed data and produces plots.\n",
    "#' \n",
    "#' @param analysisList list containing the Race column (from the original dataset in \\code{dataset_file_path}) \n",
    "#' and the preprocessed, normalized, continuous dataset \\code{normalizedContinuousDataset}\n",
    "#' \n",
    "#' @return a plot made with \\cdoe{ggplot2} after applying PCA on \\code{normalizedContinuousDataset}\n",
    "#' \n",
    "#' @example\n",
    "#' column_and_data_list = list(\"race\" = raceColumn, \"data\" = normalizedContinuousDataset)\n",
    "#' applyPCA(column_and_data_list)\n",
    "applyPCA <- function(analysisList) {\n",
    "  \n",
    "  library(pcaMethods)\n",
    "  library(ggplot2)\n",
    "  \n",
    "  pcBPCA <- pca(analysisList$data, nPcs = 20, method = \"bpca\")\n",
    "  dfBPCA <- merge(as.factor(analysisList$race),scores(pcBPCA), by = 0)\n",
    "  plotBPCA = ggplot(dfBPCA, aes(PC1, PC2, color = dfBPCA$x)) +\n",
    "             geom_point() +\n",
    "             xlab(paste(\"PC1\", pcBPCA@R2[1] * 100, \"% of variance\")) +\n",
    "             ylab(paste(\"PC2\", pcBPCA@R2[2] * 100, \"% of variance\"))\n",
    "  \n",
    "  return(plotBPCA)\n",
    "}"
   ]
  }
 ],
 "metadata": {
  "kernelspec": {
   "display_name": "R",
   "language": "R",
   "name": "ir"
  },
  "language_info": {
   "codemirror_mode": "r",
   "file_extension": ".r",
   "mimetype": "text/x-r-source",
   "name": "R",
   "pygments_lexer": "r",
   "version": "3.4.2"
  }
 },
 "nbformat": 4,
 "nbformat_minor": 2
}
